{
 "cells": [
  {
   "cell_type": "code",
   "id": "initial_id",
   "metadata": {
    "collapsed": true,
    "ExecuteTime": {
     "end_time": "2025-04-16T13:41:59.771572Z",
     "start_time": "2025-04-16T13:41:59.588575Z"
    }
   },
   "source": [
    "from pathlib import Path\n",
    "import subprocess\n",
    "\n",
    "def has_type3_fonts(pdf_path):\n",
    "    try:\n",
    "        pdf_path_str = str(pdf_path)\n",
    "        output = subprocess.check_output(['pdffonts', pdf_path_str], text=True)\n",
    "        has_type3 = any(\"Type 3\" in line for line in output.splitlines())\n",
    "        return has_type3\n",
    "    except subprocess.CalledProcessError as e:\n",
    "        print(f\"Error processing {pdf_path.name}: {e}\")\n",
    "        return None\n",
    "\n",
    "camera_ready_path = Path(\"relevant_runs_copies\") / \"main_runs_copies\" / \"camera_ready_plots\"\n",
    "pdf_filenames = [p.name for p in list(camera_ready_path.glob(\"*.pdf\"))]\n",
    "for pdf_filename in pdf_filenames:\n",
    "    pdf_file_path = camera_ready_path / pdf_filename\n",
    "    print(f\"{pdf_filename}: {has_type3_fonts(pdf_file_path)}\")"
   ],
   "outputs": [
    {
     "name": "stdout",
     "output_type": "stream",
     "text": [
      "comprehension_questions.pdf: False\n",
      "coop_per_alpha.pdf: False\n",
      "gpt35t_ad_ws100_ws10.pdf: False\n",
      "initial_final_comparison.pdf: False\n",
      "llama2_ad_ws100_ws10.pdf: False\n",
      "llama3_ad_ws100_ws10.pdf: False\n",
      "llama3_gpt35t_window_sizes_comparison.pdf: False\n",
      "profile_per_alpha.pdf: False\n",
      "sfem_per_alpha.pdf: False\n",
      "temperature_comparison.pdf: False\n",
      "window_sizes_comparison.pdf: False\n",
      "zscot_comparison.pdf: False\n"
     ]
    }
   ],
   "execution_count": 18
  }
 ],
 "metadata": {
  "kernelspec": {
   "display_name": "Python 3",
   "language": "python",
   "name": "python3"
  },
  "language_info": {
   "codemirror_mode": {
    "name": "ipython",
    "version": 2
   },
   "file_extension": ".py",
   "mimetype": "text/x-python",
   "name": "python",
   "nbconvert_exporter": "python",
   "pygments_lexer": "ipython2",
   "version": "2.7.6"
  }
 },
 "nbformat": 4,
 "nbformat_minor": 5
}
