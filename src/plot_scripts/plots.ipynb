{
 "cells": [
  {
   "cell_type": "markdown",
   "metadata": {},
   "source": [
    "### Imports"
   ]
  },
  {
   "cell_type": "code",
   "metadata": {
    "ExecuteTime": {
     "end_time": "2024-05-31T14:39:37.160088Z",
     "start_time": "2024-05-31T14:39:36.331952Z"
    }
   },
   "source": [
    "import pandas as pd\n",
    "import matplotlib\n",
    "import matplotlib.pyplot as plt\n",
    "\n",
    "c_blue1='#5c509d'\n",
    "c_green1='#7dc0a7'\n",
    "c_green2='#39d05c'\n",
    "c_violet1='#301466'\n",
    "c_gray1='#444444'\n",
    "c_orange1= '#ECA72C'\n",
    "\n",
    "data_dir = '../data/csv_files_for_plots'"
   ],
   "outputs": [],
   "execution_count": 1
  },
  {
   "cell_type": "markdown",
   "metadata": {},
   "source": [
    "### Questions plot"
   ]
  },
  {
   "cell_type": "code",
   "metadata": {
    "ExecuteTime": {
     "end_time": "2024-05-29T08:10:46.867285Z",
     "start_time": "2024-05-29T08:10:46.836035Z"
    }
   },
   "source": [
    "# df_questions = pd.read_csv(f'{data_dir}/accuracy-question/all.csv')\n",
    "df_questions = pd.read_csv(f'../../csv_files_for_plots/accuracy-question/all_checkers_final_results-gpt35t.csv')\n",
    "# df_questions = pd.read_csv(f'../../csv_files_for_plots/accuracy-question/all_checkers_final_results-llama3.csv')\n",
    "df_questions.head(10)"
   ],
   "execution_count": 5,
   "outputs": []
  },
  {
   "cell_type": "code",
   "metadata": {
    "ExecuteTime": {
     "end_time": "2024-05-29T08:10:51.295090Z",
     "start_time": "2024-05-29T08:10:50.941591Z"
    }
   },
   "source": [
    "fig, ax = plt.subplots(1,1,figsize=(10,6))\n",
    "\n",
    "ax.scatter(df_questions['label'], df_questions['final_accuracy'], marker='o', \n",
    "           s=70, zorder=10, alpha=0.9, c=c_blue1,\n",
    "           label='Full prompt')\n",
    "ax.errorbar(df_questions['label'], df_questions['final_accuracy'], yerr=(df_questions['final_ci_ub']-df_questions['final_ci_lb'])/2, \n",
    "            capsize=2, fmt='none', c=c_blue1)\n",
    "\n",
    "# ax.scatter(df_questions['label'], df_questions['initial_accuracy'], marker='^', \n",
    "#            s=90, zorder=9, alpha=0.9, c=c_green1,\n",
    "#            label='No explicit score counts')\n",
    "# ax.errorbar(df_questions['label'], df_questions['initial_accuracy'], yerr=df_questions['initial_ci_ub']-df_questions['initial_ci_lb'], \n",
    "#             capsize=2, fmt='none', c=c_green1)\n",
    "\n",
    "ax.set_xlabel('Comprehension questions',fontsize=24)\n",
    "ax.set_ylabel('Response accuracy',fontsize=24)\n",
    "\n",
    "x_labels = ['min_max', 'actions', 'payoff', 'round', 'action$_i$', 'points$_i$', '#actions', '#points']\n",
    "ax.set_ylim(-0.01,1.1)\n",
    "ax.tick_params(axis='both', labelsize=18)\n",
    "ax.set_xticklabels(x_labels,rotation=90, fontsize=18)\n",
    "\n",
    "ax.spines[['right', 'top', 'bottom']].set_visible(False)\n",
    "\n",
    "lgnd = plt.legend(fontsize=15, loc=\"lower left\", handletextpad=0.05,\n",
    "                   ncol=1) #bbox_to_anchor=(0.1, 0.1), frameon=False\n",
    "lgnd.get_frame().set_facecolor('white')\n",
    "#lgnd.get_frame().set_linewidth(0.0)\n",
    "\n",
    "ax.vlines(2.5, 0, 1.1, color='gray', linewidth=1)\n",
    "ax.vlines(5.5, 0, 1.1, color='gray', linewidth=1)\n",
    "\n",
    "ax.grid(axis='y', color='gray', linestyle=':', linewidth=1)\n",
    "ax.text(0.18, 1.05, 'Rules', fontsize=20,\n",
    "        horizontalalignment='center', verticalalignment='center', transform = ax.transAxes)\n",
    "ax.text(0.56, 1.05, 'Time', fontsize=20,\n",
    "        horizontalalignment='center', verticalalignment='center', transform = ax.transAxes)\n",
    "ax.text(0.89, 1.05, 'State', fontsize=20,\n",
    "        horizontalalignment='center', verticalalignment='center', transform = ax.transAxes)\n",
    "plt.tight_layout()\n",
    "plt.savefig('gpt35t_questions.pdf')"
   ],
   "execution_count": 6,
   "outputs": []
  },
  {
   "cell_type": "markdown",
   "metadata": {},
   "source": [
    "### Profile Plot"
   ]
  },
  {
   "cell_type": "code",
   "execution_count": 8,
   "metadata": {},
   "source": [
    "df_profile = pd.read_csv(f'{data_dir}/behavioral_profile-urnd_coop/llama2_behavioral_profile-urnd_coop.csv')\n",
    "list(df_profile.columns)\n",
    "# erasing undefined values\n",
    "df_profile.at[10,'forgiving_mean'] = float(\"NaN\")\n",
    "df_profile.at[10,'forgiving_ci_lb'] = float(\"NaN\")\n",
    "df_profile.at[10,'forgiving_ci_ub'] = float(\"NaN\")\n",
    "df_profile.at[0,'troublemaking_mean'] = float(\"NaN\")\n",
    "df_profile.at[0,'troublemaking_ci_lb'] = float(\"NaN\")\n",
    "df_profile.at[0,'troublemaking_ci_ub'] = float(\"NaN\")\n",
    "\n",
    "\n",
    "df_profile_rnd = pd.read_csv(f'{data_dir}/behavioral_profile-urnd_coop/RND_behavioral_profile-urnd_coop.csv')\n",
    "# erasing undefined values\n",
    "df_profile_rnd.at[10,'forgiving_mean'] = float(\"NaN\")\n",
    "df_profile_rnd.at[10,'forgiving_ci_lb'] = float(\"NaN\")\n",
    "df_profile_rnd.at[10,'forgiving_ci_ub'] = float(\"NaN\")\n",
    "df_profile_rnd.at[0,'troublemaking_mean'] = float(\"NaN\")\n",
    "df_profile_rnd.at[0,'troublemaking_ci_lb'] = float(\"NaN\")\n",
    "df_profile_rnd.at[0,'troublemaking_ci_ub'] = float(\"NaN\")\n",
    "\n",
    "df_profile.head(3)"
   ],
   "outputs": []
  },
  {
   "cell_type": "code",
   "execution_count": 59,
   "metadata": {},
   "source": [
    "profile_dimensions = ['nice', 'forgiving', 'retaliatory', 'troublemaking', 'emulative'] \n",
    "fig, axs = plt.subplots(5,1,figsize=(5,7))\n",
    "for i, (d, ax) in enumerate(zip(profile_dimensions, axs)):\n",
    "#    ax= axs[0]\n",
    "    ax.grid(axis='y', color='gray', linestyle=':', linewidth=1, zorder=0)\n",
    "    ax.plot(df_profile['URND_coop'], df_profile[f'{d}_mean'], '-o', markersize=5, color=c_blue1,\n",
    "            zorder=4, label='Llama2')\n",
    "    ax.fill_between(df_profile['URND_coop'], df_profile[f'{d}_ci_lb'], df_profile[f'{d}_ci_ub'], \n",
    "                    color=c_blue1, edgecolor=\"none\", alpha=0.5, zorder=3)\n",
    "    \n",
    "    ax.plot(df_profile_rnd['URND_coop'], df_profile_rnd[f'{d}_mean'], '-', markersize=5, color=c_green1, \n",
    "            zorder=2, alpha=0.8, label='Random')\n",
    "    ax.fill_between(df_profile_rnd['URND_coop'], df_profile_rnd[f'{d}_ci_lb'], df_profile_rnd[f'{d}_ci_ub'], \n",
    "                    color=c_green1, edgecolor=\"none\", alpha=0.2, zorder=1)\n",
    "    \n",
    "    ax.set_ylabel(d.capitalize(), fontsize=12)\n",
    "    ax.set_ylim([-0.05,1.05])\n",
    "    ax.set_xlim([-0.05,1.05])\n",
    "    ax.spines[['right', 'top']].set_visible(False)\n",
    "    if i < 4:\n",
    "        ax.spines[['bottom']].set_visible(False)\n",
    "        ax.set_xticks([])\n",
    "\n",
    "lgnd = plt.legend(fontsize=12, loc=\"lower left\", handletextpad=0.3,\n",
    "                   ncol=2, frameon=False) #bbox_to_anchor=(0.1, 0.1), \n",
    "lgnd.get_frame().set_facecolor('white')\n",
    "#lgnd.get_frame().set_linewidth(0.0)\n",
    "\n",
    "ax.set_xticks(df_profile['URND_coop'])\n",
    "ax.set_xlabel('Opponent cooperation probability ($α$)', fontsize=14)\n",
    "\n",
    "plt.tight_layout()\n",
    "plt.savefig('profile.pdf')"
   ],
   "outputs": []
  },
  {
   "cell_type": "markdown",
   "metadata": {},
   "source": [
    "### SFEM plot"
   ]
  },
  {
   "cell_type": "code",
   "execution_count": 68,
   "metadata": {},
   "source": [
    "df_sfem = pd.read_csv(f'{data_dir}/sfem-urnd_coop/llama2_sfem-urnd_coop.csv')\n",
    "# filter out extremes\n",
    "df_sfem = df_sfem[(df_sfem['URND_coop']>0) & (df_sfem['URND_coop']<1)]\n",
    "df_sfem.head(11)"
   ],
   "outputs": []
  },
  {
   "cell_type": "code",
   "execution_count": 196,
   "metadata": {},
   "source": [
    "strategies = ['RND', 'ALLD', 'TFT', 'STFT', 'WSLS', 'ALLC', 'GRIM']\n",
    "colorlist = [c_green1, c_green1, c_green1, c_green1, c_green1, c_blue1, c_orange1]\n",
    "fig, ax = plt.subplots(1,1,figsize=(5,3))\n",
    "for i, (strategy, c) in enumerate(zip(strategies,colorlist)):\n",
    "    linestyle = '-'\n",
    "    alpha=0.7\n",
    "    if strategy in ['GRIM', 'ALLC']:\n",
    "        linestyle = '-o'\n",
    "        alpha=1\n",
    "    ax.plot(df_sfem['URND_coop'], df_sfem[f'{strategy}_score'], linestyle, markersize=5,\n",
    "            c=c, zorder=i+1, alpha=alpha, label='Llama2')\n",
    "\n",
    "ax.spines[['right', 'top']].set_visible(False)\n",
    "ax.grid(axis='y', color='gray', linestyle=':', linewidth=1, zorder=0)\n",
    "ax.set_xticks(df_sfem['URND_coop'])\n",
    "ax.set_ylabel('SFEM score', fontsize=14)\n",
    "ax.tick_params(axis='both', labelsize=12)\n",
    "ax.set_xlabel('Opponent cooperation probability ($α$)', fontsize=14)\n",
    "\n",
    "ax.text(0.85, 0.35, 'Grim', fontsize=12,\n",
    "        horizontalalignment='center', verticalalignment='center', transform = ax.transAxes)\n",
    "ax.text(0.80, 0.90, 'Always Coop', fontsize=12,\n",
    "        horizontalalignment='center', verticalalignment='center', transform = ax.transAxes)\n",
    "ax.text(0.3, 0.3, 'All other strategies', fontsize=12,\n",
    "        horizontalalignment='center', verticalalignment='center', transform = ax.transAxes)\n",
    "ax.annotate(\"\", xy=(0.6, 0), xytext=(0.5, 0.28),\n",
    "            arrowprops=dict(arrowstyle=\"->\", color=c_gray1))\n",
    "plt.tight_layout()\n",
    "plt.savefig('sfem.pdf')"
   ],
   "outputs": []
  },
  {
   "cell_type": "markdown",
   "metadata": {},
   "source": [
    "### Coop vs alpha plot"
   ]
  },
  {
   "cell_type": "code",
   "execution_count": 138,
   "metadata": {},
   "source": [
    "df_coop = pd.read_csv(f'{data_dir}/steady_state_coop-urnd_coop/llama2_steady_state_coop-urnd_coop.csv')\n",
    "df_coop.head(3)"
   ],
   "outputs": []
  },
  {
   "cell_type": "code",
   "execution_count": 146,
   "metadata": {},
   "source": [
    "fig, ax = plt.subplots(1,1,figsize=(5,3))\n",
    "\n",
    "ax.plot(df_coop['URND_coop'], df_coop[f'Llama2_coop'], linestyle, markersize=5,\n",
    "            c=c, zorder=i+1, alpha=alpha)\n",
    "ax.fill_between(df_coop['URND_coop'], df_coop[f'ci_lb'], df_coop[f'ci_ub'], \n",
    "                color=c_blue1, edgecolor=\"none\", alpha=0.5, zorder=3)\n",
    "\n",
    "ax.spines[['right', 'top']].set_visible(False)\n",
    "ax.grid(axis='y', color='gray', linestyle=':', linewidth=1, zorder=0)\n",
    "ax.set_xticks(df_coop['URND_coop'])\n",
    "ax.set_ylabel('$p_{coop}$', fontsize=14)\n",
    "ax.tick_params(axis='both', labelsize=12)\n",
    "ax.set_xlabel('Opponent cooperation probability ($α$)', fontsize=14)\n",
    "\n",
    "plt.tight_layout()\n",
    "plt.savefig('coop_vs_alpha.pdf')"
   ],
   "outputs": []
  },
  {
   "cell_type": "markdown",
   "metadata": {},
   "source": [
    "### Window size plots"
   ]
  },
  {
   "cell_type": "code",
   "metadata": {
    "ExecuteTime": {
     "end_time": "2024-05-31T14:40:17.189740Z",
     "start_time": "2024-05-31T14:40:17.142866Z"
    }
   },
   "source": [
    "# df_win = pd.read_csv(f'{data_dir}/llama2_coop_vs_opponent/llama2_vs_ALLD_wdw-no_wdw.csv')\n",
    "# df_win = pd.read_csv(f'../../csv_files_for_plots/gpt35t_coop_vs_opponent/llama3_vs_ALLD_wdw-no_wdw.csv')\n",
    "df_win = pd.read_csv(f'../../csv_files_for_plots/llama2_coop_vs_opponent/llama2_vs_ALLD_wdw-no_wdw.csv')\n",
    "df_win.head(3)"
   ],
   "outputs": [
    {
     "data": {
      "text/plain": [
       "   Unnamed: 0  iteration  no_wdw_mean  no_wdw_ci_lb  no_wdw_ci_ub  wdw_mean  \\\n",
       "0           0          1         0.80      0.688002      0.911998      1.00   \n",
       "1           1          2         0.54      0.400451      0.679549      0.28   \n",
       "2           2          3         0.20      0.088002      0.311998      0.06   \n",
       "\n",
       "   wdw_ci_lb  wdw_ci_ub  \n",
       "0   1.000000   1.000000  \n",
       "1   0.191554   0.368446  \n",
       "2   0.013219   0.106781  "
      ],
      "text/html": [
       "<div>\n",
       "<style scoped>\n",
       "    .dataframe tbody tr th:only-of-type {\n",
       "        vertical-align: middle;\n",
       "    }\n",
       "\n",
       "    .dataframe tbody tr th {\n",
       "        vertical-align: top;\n",
       "    }\n",
       "\n",
       "    .dataframe thead th {\n",
       "        text-align: right;\n",
       "    }\n",
       "</style>\n",
       "<table border=\"1\" class=\"dataframe\">\n",
       "  <thead>\n",
       "    <tr style=\"text-align: right;\">\n",
       "      <th></th>\n",
       "      <th>Unnamed: 0</th>\n",
       "      <th>iteration</th>\n",
       "      <th>no_wdw_mean</th>\n",
       "      <th>no_wdw_ci_lb</th>\n",
       "      <th>no_wdw_ci_ub</th>\n",
       "      <th>wdw_mean</th>\n",
       "      <th>wdw_ci_lb</th>\n",
       "      <th>wdw_ci_ub</th>\n",
       "    </tr>\n",
       "  </thead>\n",
       "  <tbody>\n",
       "    <tr>\n",
       "      <th>0</th>\n",
       "      <td>0</td>\n",
       "      <td>1</td>\n",
       "      <td>0.80</td>\n",
       "      <td>0.688002</td>\n",
       "      <td>0.911998</td>\n",
       "      <td>1.00</td>\n",
       "      <td>1.000000</td>\n",
       "      <td>1.000000</td>\n",
       "    </tr>\n",
       "    <tr>\n",
       "      <th>1</th>\n",
       "      <td>1</td>\n",
       "      <td>2</td>\n",
       "      <td>0.54</td>\n",
       "      <td>0.400451</td>\n",
       "      <td>0.679549</td>\n",
       "      <td>0.28</td>\n",
       "      <td>0.191554</td>\n",
       "      <td>0.368446</td>\n",
       "    </tr>\n",
       "    <tr>\n",
       "      <th>2</th>\n",
       "      <td>2</td>\n",
       "      <td>3</td>\n",
       "      <td>0.20</td>\n",
       "      <td>0.088002</td>\n",
       "      <td>0.311998</td>\n",
       "      <td>0.06</td>\n",
       "      <td>0.013219</td>\n",
       "      <td>0.106781</td>\n",
       "    </tr>\n",
       "  </tbody>\n",
       "</table>\n",
       "</div>"
      ]
     },
     "execution_count": 2,
     "metadata": {},
     "output_type": "execute_result"
    }
   ],
   "execution_count": 2
  },
  {
   "cell_type": "code",
   "metadata": {
    "ExecuteTime": {
     "end_time": "2024-05-31T14:45:35.862750Z",
     "start_time": "2024-05-31T14:45:35.831534Z"
    }
   },
   "source": [
    "# df_winsize = pd.read_csv(f'{data_dir}/coop_bias-window_size/llama2_coop_bias-window_size.csv')\n",
    "# df_winsize = pd.read_csv(f'../../csv_files_for_plots/coop_bias-window_size/llama2_coop_bias_per_window_size_fixed.csv')\n",
    "df_winsize = pd.read_csv(f'../../csv_files_for_plots/coop_bias-window_size/llama2_coop_bias-window_size.csv')\n",
    "\n",
    "df_winsize.head(3)"
   ],
   "outputs": [
    {
     "data": {
      "text/plain": [
       "   Unnamed: 0  window_size      mean     ci_lb     ci_ub\n",
       "0           0            1  0.527556  0.517270  0.537841\n",
       "1           1            2  0.408667  0.400335  0.416998\n",
       "2           2            3  0.340667  0.325558  0.355775"
      ],
      "text/html": [
       "<div>\n",
       "<style scoped>\n",
       "    .dataframe tbody tr th:only-of-type {\n",
       "        vertical-align: middle;\n",
       "    }\n",
       "\n",
       "    .dataframe tbody tr th {\n",
       "        vertical-align: top;\n",
       "    }\n",
       "\n",
       "    .dataframe thead th {\n",
       "        text-align: right;\n",
       "    }\n",
       "</style>\n",
       "<table border=\"1\" class=\"dataframe\">\n",
       "  <thead>\n",
       "    <tr style=\"text-align: right;\">\n",
       "      <th></th>\n",
       "      <th>Unnamed: 0</th>\n",
       "      <th>window_size</th>\n",
       "      <th>mean</th>\n",
       "      <th>ci_lb</th>\n",
       "      <th>ci_ub</th>\n",
       "    </tr>\n",
       "  </thead>\n",
       "  <tbody>\n",
       "    <tr>\n",
       "      <th>0</th>\n",
       "      <td>0</td>\n",
       "      <td>1</td>\n",
       "      <td>0.527556</td>\n",
       "      <td>0.517270</td>\n",
       "      <td>0.537841</td>\n",
       "    </tr>\n",
       "    <tr>\n",
       "      <th>1</th>\n",
       "      <td>1</td>\n",
       "      <td>2</td>\n",
       "      <td>0.408667</td>\n",
       "      <td>0.400335</td>\n",
       "      <td>0.416998</td>\n",
       "    </tr>\n",
       "    <tr>\n",
       "      <th>2</th>\n",
       "      <td>2</td>\n",
       "      <td>3</td>\n",
       "      <td>0.340667</td>\n",
       "      <td>0.325558</td>\n",
       "      <td>0.355775</td>\n",
       "    </tr>\n",
       "  </tbody>\n",
       "</table>\n",
       "</div>"
      ]
     },
     "execution_count": 11,
     "metadata": {},
     "output_type": "execute_result"
    }
   ],
   "execution_count": 11
  },
  {
   "cell_type": "code",
   "metadata": {
    "ExecuteTime": {
     "end_time": "2024-05-31T14:45:39.360123Z",
     "start_time": "2024-05-31T14:45:38.916240Z"
    }
   },
   "source": [
    "fig, axs = plt.subplots(1,2,figsize=(7,4))\n",
    "# fig, ax = plt.subplots(1,1,figsize=(5,4))\n",
    "alpha=1.0\n",
    "\n",
    "ax = axs[0]\n",
    "\n",
    "ax.plot(df_win['iteration'], df_win[f'wdw_mean'], '-', markersize=5,\n",
    "            c=c_blue1, zorder=2, alpha=alpha, label=\"ws 10\")\n",
    "# ax.fill_between(df_win['iteration'], df_win[f'wdw_ci_lb'], df_win[f'wdw_ci_ub'], \n",
    "#                 color=c_blue1, edgecolor=\"none\", alpha=0.5, zorder=0)\n",
    "\n",
    "ax.plot(df_win['iteration'], df_win[f'no_wdw_mean'], '-', markersize=5,\n",
    "            c=c_green1, zorder=1, alpha=alpha, label=\"no wdw\")\n",
    "# ax.fill_between(df_win['iteration'], df_win[f'no_wdw_ci_lb'], df_win[f'no_wdw_ci_ub'], \n",
    "#                 color=c_green1, edgecolor=\"none\", alpha=0.5, zorder=0)\n",
    "\n",
    "ax.spines[['right', 'top']].set_visible(False)\n",
    "ax.grid(axis='y', color='gray', linestyle=':', linewidth=1, zorder=0)\n",
    "#ax.set_xticks(df_win['iteration'])\n",
    "ax.set_ylabel('$p_{coop}$ vs. Always Defect', fontsize=18)\n",
    "ax.tick_params(axis='both', labelsize=14)\n",
    "ax.set_xlabel('Round', fontsize=18)\n",
    "\n",
    "ax.text(0.7, 1, 'Full history', fontsize=14,\n",
    "        horizontalalignment='center', verticalalignment='center', transform = ax.transAxes)\n",
    "ax.text(0.7, 0.2, 'Window size 10', fontsize=14,\n",
    "        horizontalalignment='center', verticalalignment='center', transform = ax.transAxes)\n",
    "\n",
    "ax = axs[1]\n",
    "ax.plot(df_winsize['window_size'], df_winsize[f'mean'], '-', markersize=5,\n",
    "            c=c_orange1, zorder=2, alpha=alpha)\n",
    "ax.fill_between(df_winsize['window_size'], df_winsize[f'ci_lb'], df_winsize[f'ci_ub'], \n",
    "                color=c_orange1, edgecolor=\"none\", alpha=0.3, zorder=0)\n",
    "ax.spines[['right', 'top']].set_visible(False)\n",
    "ax.grid(axis='y', color='gray', linestyle=':', linewidth=1, zorder=0)\n",
    "# ax.set_xlim([0,40])\n",
    "ax.tick_params(axis='both', labelsize=14)\n",
    "ax.set_xlabel('Window size', fontsize=18)\n",
    "ax.set_yticks([0,0.2,0.4,0.6])\n",
    "plt.legend()\n",
    "plt.tight_layout()\n",
    "plt.savefig('llama2_windowsize_old.pdf')\n",
    "plt.savefig('llama2_windowsize_old.png')"
   ],
   "outputs": [
    {
     "name": "stderr",
     "output_type": "stream",
     "text": [
      "No artists with labels found to put in legend.  Note that artists whose label start with an underscore are ignored when legend() is called with no argument.\n"
     ]
    },
    {
     "data": {
      "text/plain": [
       "<Figure size 700x400 with 2 Axes>"
      ],
      "image/png": "[encoded data removed]"
     },
     "metadata": {},
     "output_type": "display_data"
    }
   ],
   "execution_count": 12
  },
  {
   "cell_type": "code",
   "execution_count": null,
   "metadata": {},
   "source": [
    "fig, ax = plt.subplots(1,1,figsize=(5,3))\n",
    "\n",
    "c_orange1= '#ECA72C'\n",
    "\n",
    "ax.plot(df_win['iteration'], df_win[f'wdw_mean'], '-', markersize=5,\n",
    "            c=c_blue1, zorder=2, alpha=alpha)\n",
    "ax.fill_between(df_win['iteration'], df_win[f'wdw_ci_lb'], df_win[f'wdw_ci_ub'], \n",
    "                color=c_blue1, edgecolor=\"none\", alpha=0.5, zorder=0)\n",
    "\n",
    "ax.plot(df_win['iteration'], df_win[f'no_wdw_mean'], '-', markersize=5,\n",
    "            c=c_orange1, zorder=1, alpha=alpha)\n",
    "ax.fill_between(df_win['iteration'], df_win[f'no_wdw_ci_lb'], df_win[f'no_wdw_ci_ub'], \n",
    "                color=c_orange1, edgecolor=\"none\", alpha=0.5, zorder=0)\n",
    "\n",
    "ax.spines[['right', 'top']].set_visible(False)\n",
    "ax.grid(axis='y', color='gray', linestyle=':', linewidth=1, zorder=0)\n",
    "#ax.set_xticks(df_win['iteration'])\n",
    "ax.set_ylabel('$p_{coop}$ vs. Always Defect', fontsize=14)\n",
    "ax.tick_params(axis='both', labelsize=12)\n",
    "ax.set_xlabel('Round', fontsize=14)\n",
    "\n",
    "ax.text(0.7, 1, 'Full history', fontsize=12,\n",
    "        horizontalalignment='center', verticalalignment='center', transform = ax.transAxes)\n",
    "ax.text(0.7, 0.2, 'Window size 10', fontsize=12,\n",
    "        horizontalalignment='center', verticalalignment='center', transform = ax.transAxes)\n",
    "\n",
    "plt.tight_layout()\n",
    "plt.savefig('windowsize.pdf')"
   ],
   "outputs": []
  }
 ],
 "metadata": {
  "kernelspec": {
   "display_name": "Python 3",
   "language": "python",
   "name": "python3"
  },
  "language_info": {
   "codemirror_mode": {
    "name": "ipython",
    "version": 3
   },
   "file_extension": ".py",
   "mimetype": "text/x-python",
   "name": "python",
   "nbconvert_exporter": "python",
   "pygments_lexer": "ipython3",
   "version": "3.8.5"
  },
  "toc": {
   "base_numbering": 1,
   "nav_menu": {},
   "number_sections": true,
   "sideBar": true,
   "skip_h1_title": false,
   "title_cell": "Table of Contents",
   "title_sidebar": "Contents",
   "toc_cell": false,
   "toc_position": {},
   "toc_section_display": true,
   "toc_window_display": false
  }
 },
 "nbformat": 4,
 "nbformat_minor": 4
}
